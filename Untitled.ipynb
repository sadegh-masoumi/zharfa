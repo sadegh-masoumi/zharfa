{
 "cells": [
  {
   "cell_type": "code",
   "execution_count": null,
   "id": "75810dab-5415-48a5-b592-9e4948ff95c9",
   "metadata": {},
   "outputs": [],
   "source": [
    "import logging\n",
    "from communication.cache import Cache\n",
    "\n",
    "logging.basicConfig(\n",
    "    level=logging.DEBUG, format=\"%(asctime)s:%(levelname)s:%(name)s:%(message)s\"\n",
    ")\n",
    "logger = logging.getLogger(\"Start Up 🏁\")\n",
    "\n",
    "\n",
    "def start_up():\n",
    "    import pandas as pd\n",
    "    from sklearn.cluster import KMeans\n",
    "    import numpy as np\n",
    "\n",
    "    logger.info(\"Loading Gene file ...⌛️\")\n",
    "\n",
    "    df = pd.read_csv(\"./data/gene.csv\")\n",
    "    logger.info(\"Gene file loaded ✅\")\n",
    "\n",
    "    def get_labels(data_pc):\n",
    "        model = KMeans(n_clusters=2, n_init=5)\n",
    "        model.fit(data_pc)\n",
    "        return np.array(model.labels_)\n",
    "\n",
    "    res = dict()\n",
    "\n",
    "    def hcd(df, id):\n",
    "        if len(df) > 1:\n",
    "            labels = get_labels(df[[\"PC1\", \"PC2\", \"PC3\"]])\n",
    "            one = df[labels == 1]\n",
    "            zero = df[labels == 0]\n",
    "\n",
    "            res[id] = zero.ID.values.tolist()\n",
    "            res[id + 1] = one.ID.values.tolist()\n",
    "\n",
    "            hcd(zero, id + 1)\n",
    "            hcd(one, id + 2)\n",
    "\n",
    "    hcd(df, 0)\n",
    "\n",
    "    logger.info(\"Cache On redis 🗂️\")\n",
    "    client = Cache()\n",
    "    client.set_clusters(res)\n",
    "\n",
    "    for ID, lat, long in df[[\"ID\", \"Lat\", \"Long\"]].values:\n",
    "        Cache.store_lat_long(key=ID, lat=lat, long=long)\n",
    "\n",
    "    logger.info(\"Cached On redis ✅\")\n"
   ]
  }
 ],
 "metadata": {
  "kernelspec": {
   "display_name": "Python 3 (ipykernel)",
   "language": "python",
   "name": "python3"
  },
  "language_info": {
   "codemirror_mode": {
    "name": "ipython",
    "version": 3
   },
   "file_extension": ".py",
   "mimetype": "text/x-python",
   "name": "python",
   "nbconvert_exporter": "python",
   "pygments_lexer": "ipython3",
   "version": "3.11.5"
  }
 },
 "nbformat": 4,
 "nbformat_minor": 5
}
