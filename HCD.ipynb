{
 "cells": [
  {
   "cell_type": "code",
   "execution_count": 1,
   "id": "cbddf444-facc-4bd8-ae05-9989ac6c5e32",
   "metadata": {},
   "outputs": [],
   "source": [
    "import pandas as pd\n",
    "import numpy as np\n",
    "from sklearn.cluster import KMeans"
   ]
  },
  {
   "cell_type": "markdown",
   "id": "fe0048d9-469a-447d-b737-01576b35df43",
   "metadata": {},
   "source": [
    "# Read Data"
   ]
  },
  {
   "cell_type": "code",
   "execution_count": 2,
   "id": "2b079498-2d0a-4439-a4f3-b1c9b70b7447",
   "metadata": {},
   "outputs": [],
   "source": [
    "df = pd.read_csv(\"./data/gene.csv\")"
   ]
  },
  {
   "cell_type": "code",
   "execution_count": 3,
   "id": "07476aec-680f-4098-a442-72ffb25ba246",
   "metadata": {},
   "outputs": [
    {
     "data": {
      "text/html": [
       "<div>\n",
       "<style scoped>\n",
       "    .dataframe tbody tr th:only-of-type {\n",
       "        vertical-align: middle;\n",
       "    }\n",
       "\n",
       "    .dataframe tbody tr th {\n",
       "        vertical-align: top;\n",
       "    }\n",
       "\n",
       "    .dataframe thead th {\n",
       "        text-align: right;\n",
       "    }\n",
       "</style>\n",
       "<table border=\"1\" class=\"dataframe\">\n",
       "  <thead>\n",
       "    <tr style=\"text-align: right;\">\n",
       "      <th></th>\n",
       "      <th>ID</th>\n",
       "      <th>Lat</th>\n",
       "      <th>Long</th>\n",
       "      <th>PC1</th>\n",
       "      <th>PC2</th>\n",
       "      <th>PC3</th>\n",
       "    </tr>\n",
       "  </thead>\n",
       "  <tbody>\n",
       "    <tr>\n",
       "      <th>0</th>\n",
       "      <td>177</td>\n",
       "      <td>47.7467</td>\n",
       "      <td>22.395</td>\n",
       "      <td>0.084596</td>\n",
       "      <td>0.016137</td>\n",
       "      <td>-0.002566</td>\n",
       "    </tr>\n",
       "  </tbody>\n",
       "</table>\n",
       "</div>"
      ],
      "text/plain": [
       "    ID      Lat    Long       PC1       PC2       PC3\n",
       "0  177  47.7467  22.395  0.084596  0.016137 -0.002566"
      ]
     },
     "execution_count": 3,
     "metadata": {},
     "output_type": "execute_result"
    }
   ],
   "source": [
    "df.head(1)"
   ]
  },
  {
   "cell_type": "code",
   "execution_count": 4,
   "id": "c4c20b50-3397-4ab4-b9f0-e050515806ea",
   "metadata": {},
   "outputs": [
    {
     "data": {
      "text/plain": [
       "ID        int64\n",
       "Lat     float64\n",
       "Long    float64\n",
       "PC1     float64\n",
       "PC2     float64\n",
       "PC3     float64\n",
       "dtype: object"
      ]
     },
     "execution_count": 4,
     "metadata": {},
     "output_type": "execute_result"
    }
   ],
   "source": [
    "df.dtypes"
   ]
  },
  {
   "cell_type": "markdown",
   "id": "4ee7536f-f196-4a61-849c-a6424210e1dd",
   "metadata": {},
   "source": [
    "# KMeans"
   ]
  },
  {
   "cell_type": "code",
   "execution_count": 5,
   "id": "2987dc1d-c67d-43df-a0f6-719af9e18cdc",
   "metadata": {},
   "outputs": [],
   "source": [
    "def get_labels(data_pc):\n",
    "    model = KMeans(n_clusters=2, n_init=5)\n",
    "    model.fit(data_pc)\n",
    "    return np.array(model.labels_)"
   ]
  },
  {
   "cell_type": "code",
   "execution_count": 6,
   "id": "b5245e91-4127-419a-b3de-6fefccd41c2c",
   "metadata": {},
   "outputs": [],
   "source": [
    "res = dict()\n",
    "\n",
    "def hcd(df, id):\n",
    "    if len(df) > 1:\n",
    "        labels = get_labels(df[[\"PC1\", \"PC2\", \"PC3\"]])\n",
    "        one = df[labels == 1]\n",
    "        zero = df[labels == 0]\n",
    "        res[id] = zero.ID.values.tolist()\n",
    "        res[id+1] = one.ID.values.tolist()\n",
    "        hcd(one, id+2)\n",
    "        hcd(one, id+2)"
   ]
  },
  {
   "cell_type": "code",
   "execution_count": 7,
   "id": "fd7dfd86-8ea8-492d-aafc-d0a222d9d267",
   "metadata": {
    "scrolled": true
   },
   "outputs": [],
   "source": [
    "hcd(df, 0)"
   ]
  },
  {
   "cell_type": "code",
   "execution_count": 8,
   "id": "6fa782c4-bacc-476d-b093-800b51edb617",
   "metadata": {},
   "outputs": [
    {
     "data": {
      "text/plain": [
       "dict_keys([0, 1, 2, 3, 4, 5, 6, 7, 8, 9, 10, 11, 12, 13, 14, 15, 16, 17, 18, 19, 20, 21, 22, 23, 24, 25, 26, 27])"
      ]
     },
     "execution_count": 8,
     "metadata": {},
     "output_type": "execute_result"
    }
   ],
   "source": [
    "res.keys()"
   ]
  },
  {
   "cell_type": "code",
   "execution_count": 9,
   "id": "dda808c4-8a85-42f3-be56-fb8f2a1d7d2e",
   "metadata": {},
   "outputs": [
    {
     "name": "stdout",
     "output_type": "stream",
     "text": [
      "177.0 47.7467 22.395\n"
     ]
    }
   ],
   "source": [
    "for ID, lat, long in df[[\"ID\", \"Lat\", \"Long\"]].values:\n",
    "    print(ID, lat, long)\n",
    "    break"
   ]
  },
  {
   "cell_type": "code",
   "execution_count": 10,
   "id": "3971bf98-e4d6-41c3-8d41-9cefeb05c824",
   "metadata": {},
   "outputs": [
    {
     "data": {
      "text/html": [
       "<div>\n",
       "<style scoped>\n",
       "    .dataframe tbody tr th:only-of-type {\n",
       "        vertical-align: middle;\n",
       "    }\n",
       "\n",
       "    .dataframe tbody tr th {\n",
       "        vertical-align: top;\n",
       "    }\n",
       "\n",
       "    .dataframe thead th {\n",
       "        text-align: right;\n",
       "    }\n",
       "</style>\n",
       "<table border=\"1\" class=\"dataframe\">\n",
       "  <thead>\n",
       "    <tr style=\"text-align: right;\">\n",
       "      <th></th>\n",
       "      <th>ID</th>\n",
       "      <th>Lat</th>\n",
       "      <th>Long</th>\n",
       "      <th>PC1</th>\n",
       "      <th>PC2</th>\n",
       "      <th>PC3</th>\n",
       "    </tr>\n",
       "  </thead>\n",
       "  <tbody>\n",
       "    <tr>\n",
       "      <th>0</th>\n",
       "      <td>177</td>\n",
       "      <td>47.746700</td>\n",
       "      <td>22.395000</td>\n",
       "      <td>0.084596</td>\n",
       "      <td>0.016137</td>\n",
       "      <td>-0.002566</td>\n",
       "    </tr>\n",
       "    <tr>\n",
       "      <th>1</th>\n",
       "      <td>1074</td>\n",
       "      <td>50.145766</td>\n",
       "      <td>14.221421</td>\n",
       "      <td>0.060313</td>\n",
       "      <td>0.063142</td>\n",
       "      <td>0.008640</td>\n",
       "    </tr>\n",
       "    <tr>\n",
       "      <th>2</th>\n",
       "      <td>1197</td>\n",
       "      <td>41.361600</td>\n",
       "      <td>1.669400</td>\n",
       "      <td>0.022832</td>\n",
       "      <td>0.028759</td>\n",
       "      <td>0.016147</td>\n",
       "    </tr>\n",
       "    <tr>\n",
       "      <th>3</th>\n",
       "      <td>472</td>\n",
       "      <td>36.445000</td>\n",
       "      <td>-6.210000</td>\n",
       "      <td>0.057355</td>\n",
       "      <td>0.050147</td>\n",
       "      <td>0.003110</td>\n",
       "    </tr>\n",
       "    <tr>\n",
       "      <th>4</th>\n",
       "      <td>629</td>\n",
       "      <td>65.600000</td>\n",
       "      <td>-20.166667</td>\n",
       "      <td>-0.017448</td>\n",
       "      <td>0.010067</td>\n",
       "      <td>0.013056</td>\n",
       "    </tr>\n",
       "    <tr>\n",
       "      <th>...</th>\n",
       "      <td>...</td>\n",
       "      <td>...</td>\n",
       "      <td>...</td>\n",
       "      <td>...</td>\n",
       "      <td>...</td>\n",
       "      <td>...</td>\n",
       "    </tr>\n",
       "    <tr>\n",
       "      <th>1995</th>\n",
       "      <td>2103</td>\n",
       "      <td>41.747882</td>\n",
       "      <td>12.259475</td>\n",
       "      <td>0.017049</td>\n",
       "      <td>0.024686</td>\n",
       "      <td>0.015659</td>\n",
       "    </tr>\n",
       "    <tr>\n",
       "      <th>1996</th>\n",
       "      <td>667</td>\n",
       "      <td>43.480000</td>\n",
       "      <td>11.120000</td>\n",
       "      <td>0.027128</td>\n",
       "      <td>-0.015420</td>\n",
       "      <td>-0.004367</td>\n",
       "    </tr>\n",
       "    <tr>\n",
       "      <th>1997</th>\n",
       "      <td>1616</td>\n",
       "      <td>41.734986</td>\n",
       "      <td>14.034655</td>\n",
       "      <td>0.033546</td>\n",
       "      <td>0.009917</td>\n",
       "      <td>0.006641</td>\n",
       "    </tr>\n",
       "    <tr>\n",
       "      <th>1998</th>\n",
       "      <td>1979</td>\n",
       "      <td>54.530000</td>\n",
       "      <td>-2.160000</td>\n",
       "      <td>-0.024446</td>\n",
       "      <td>0.007354</td>\n",
       "      <td>0.021144</td>\n",
       "    </tr>\n",
       "    <tr>\n",
       "      <th>1999</th>\n",
       "      <td>218</td>\n",
       "      <td>50.579230</td>\n",
       "      <td>5.118983</td>\n",
       "      <td>0.011027</td>\n",
       "      <td>0.093632</td>\n",
       "      <td>-0.006327</td>\n",
       "    </tr>\n",
       "  </tbody>\n",
       "</table>\n",
       "<p>2000 rows × 6 columns</p>\n",
       "</div>"
      ],
      "text/plain": [
       "        ID        Lat       Long       PC1       PC2       PC3\n",
       "0      177  47.746700  22.395000  0.084596  0.016137 -0.002566\n",
       "1     1074  50.145766  14.221421  0.060313  0.063142  0.008640\n",
       "2     1197  41.361600   1.669400  0.022832  0.028759  0.016147\n",
       "3      472  36.445000  -6.210000  0.057355  0.050147  0.003110\n",
       "4      629  65.600000 -20.166667 -0.017448  0.010067  0.013056\n",
       "...    ...        ...        ...       ...       ...       ...\n",
       "1995  2103  41.747882  12.259475  0.017049  0.024686  0.015659\n",
       "1996   667  43.480000  11.120000  0.027128 -0.015420 -0.004367\n",
       "1997  1616  41.734986  14.034655  0.033546  0.009917  0.006641\n",
       "1998  1979  54.530000  -2.160000 -0.024446  0.007354  0.021144\n",
       "1999   218  50.579230   5.118983  0.011027  0.093632 -0.006327\n",
       "\n",
       "[2000 rows x 6 columns]"
      ]
     },
     "execution_count": 10,
     "metadata": {},
     "output_type": "execute_result"
    }
   ],
   "source": [
    "df"
   ]
  },
  {
   "cell_type": "code",
   "execution_count": null,
   "id": "4111a871-f022-446d-b727-eee00b9e64d7",
   "metadata": {},
   "outputs": [],
   "source": []
  }
 ],
 "metadata": {
  "kernelspec": {
   "display_name": "Python 3 (ipykernel)",
   "language": "python",
   "name": "python3"
  },
  "language_info": {
   "codemirror_mode": {
    "name": "ipython",
    "version": 3
   },
   "file_extension": ".py",
   "mimetype": "text/x-python",
   "name": "python",
   "nbconvert_exporter": "python",
   "pygments_lexer": "ipython3",
   "version": "3.11.5"
  }
 },
 "nbformat": 4,
 "nbformat_minor": 5
}
